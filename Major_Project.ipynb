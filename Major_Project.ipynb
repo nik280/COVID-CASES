{
  "nbformat": 4,
  "nbformat_minor": 0,
  "metadata": {
    "colab": {
      "name": "Major Project.ipynb",
      "private_outputs": true,
      "provenance": [],
      "collapsed_sections": [],
      "mount_file_id": "17sxHUUoTUEJAghio_Bt2q2nEk8BKPBwO",
      "authorship_tag": "ABX9TyPbloITQRdaLxK2un+fZ6VL",
      "include_colab_link": true
    },
    "kernelspec": {
      "name": "python3",
      "display_name": "Python 3"
    },
    "language_info": {
      "name": "python"
    }
  },
  "cells": [
    {
      "cell_type": "markdown",
      "metadata": {
        "id": "view-in-github",
        "colab_type": "text"
      },
      "source": [
        "<a href=\"https://colab.research.google.com/github/nik280/COVID-CASES/blob/main/Major_Project.ipynb\" target=\"_parent\"><img src=\"https://colab.research.google.com/assets/colab-badge.svg\" alt=\"Open In Colab\"/></a>"
      ]
    },
    {
      "cell_type": "code",
      "metadata": {
        "id": "TFQepFVOKKmo"
      },
      "source": [
        "import numpy as np #linear algebra\n",
        "import pandas as pd #data preprocessing\n",
        "import os\n",
        "for dirname, _, filenames in os.walk('/content/covid19'):\n",
        "     for filename in filenames:\n",
        "       print(os.path.join(dirname, filename))"
      ],
      "execution_count": null,
      "outputs": []
    },
    {
      "cell_type": "markdown",
      "metadata": {
        "id": "g8UCeV-3nhZL"
      },
      "source": [
        "STATEWISE COVID TASTING\n"
      ]
    },
    {
      "cell_type": "code",
      "metadata": {
        "id": "yj0z5DqgKMHk"
      },
      "source": [
        "Covid_Testing = pd.read_csv('/content/covid19/StatewiseTestingDetails.csv')\n",
        "Covid_Testing.head()"
      ],
      "execution_count": null,
      "outputs": []
    },
    {
      "cell_type": "code",
      "metadata": {
        "id": "M4_NfYgrKMok"
      },
      "source": [
        "Covid_Testing['State'].unique()"
      ],
      "execution_count": null,
      "outputs": []
    },
    {
      "cell_type": "code",
      "metadata": {
        "id": "IDnwXtd9KNEj"
      },
      "source": [
        "Covid_Testing.shape\n"
      ],
      "execution_count": null,
      "outputs": []
    },
    {
      "cell_type": "code",
      "metadata": {
        "id": "1u374Lg3KPLg"
      },
      "source": [
        "Covid_Testing.describe()"
      ],
      "execution_count": null,
      "outputs": []
    },
    {
      "cell_type": "code",
      "metadata": {
        "id": "Oqpieb2QKPtN"
      },
      "source": [
        "print(Covid_Testing['Date'].min())\n",
        "print(Covid_Testing['Date'].max())"
      ],
      "execution_count": null,
      "outputs": []
    },
    {
      "cell_type": "markdown",
      "metadata": {
        "id": "Z_AJhGZanak1"
      },
      "source": [
        "INDIA COVID CASES"
      ]
    },
    {
      "cell_type": "code",
      "metadata": {
        "id": "q8x1b_aiKQRR"
      },
      "source": [
        "Covid_Summary = pd.read_csv('/content/covid19/covid_19_india.csv')\n",
        "Covid_Summary.head()"
      ],
      "execution_count": null,
      "outputs": []
    },
    {
      "cell_type": "code",
      "metadata": {
        "id": "UqWfkuNuKQjc"
      },
      "source": [
        "Covid_Summary.describe()"
      ],
      "execution_count": null,
      "outputs": []
    },
    {
      "cell_type": "code",
      "metadata": {
        "id": "pO46kT5KKQyM"
      },
      "source": [
        "Covid_Summary.shape"
      ],
      "execution_count": null,
      "outputs": []
    },
    {
      "cell_type": "code",
      "metadata": {
        "id": "D2F0pvGNKQ1Q"
      },
      "source": [
        "import seaborn as sns\n",
        "import matplotlib.pyplot as plt\n",
        "import plotly.graph_objects as go\n",
        "%matplotlib inline\n",
        "\n",
        "import warnings\n",
        "warnings.filterwarnings('ignore')\n",
        "\n"
      ],
      "execution_count": null,
      "outputs": []
    },
    {
      "cell_type": "code",
      "metadata": {
        "id": "3_pEJvHpKQ5b"
      },
      "source": [
        "Covid_Summary.isnull().sum()"
      ],
      "execution_count": null,
      "outputs": []
    },
    {
      "cell_type": "code",
      "metadata": {
        "id": "A6s1lNVdKQ7g"
      },
      "source": [
        "Covid_Summary.info()"
      ],
      "execution_count": null,
      "outputs": []
    },
    {
      "cell_type": "code",
      "metadata": {
        "id": "nNGoxq1fKQ_K"
      },
      "source": [
        "Covid_Summary = Covid_Summary.drop(['Sno','ConfirmedIndianNational', 'ConfirmedForeignNational'], axis=1)\n",
        "Covid_Summary.head()"
      ],
      "execution_count": null,
      "outputs": []
    },
    {
      "cell_type": "code",
      "metadata": {
        "id": "YgSmC-QXKRA-"
      },
      "source": [
        "Covid_Summary['Active'] = Covid_Summary['Confirmed'] - Covid_Summary['Cured'] - Covid_Summary['Deaths']\n",
        "Covid_Summary.tail()"
      ],
      "execution_count": null,
      "outputs": []
    },
    {
      "cell_type": "code",
      "metadata": {
        "id": "K09ovRczKREd"
      },
      "source": [
        "Covid_Summary['Date'] = pd.to_datetime(Covid_Summary['Date'])\n",
        "Covid_Summary.head()"
      ],
      "execution_count": null,
      "outputs": []
    },
    {
      "cell_type": "code",
      "metadata": {
        "id": "8nfIxKQjKRFy"
      },
      "source": [
        "Covid_Summary.info()"
      ],
      "execution_count": null,
      "outputs": []
    },
    {
      "cell_type": "code",
      "metadata": {
        "id": "OweRunoSKRIm"
      },
      "source": [
        "india_cases = Covid_Summary[Covid_Summary['Date'] == Covid_Summary['Date'].max()].copy().fillna(0)\n",
        "india_cases.index = india_cases[\"State/UnionTerritory\"]\n",
        "india_cases = india_cases.drop(['State/UnionTerritory', 'Time','Date'], axis=1)"
      ],
      "execution_count": null,
      "outputs": []
    },
    {
      "cell_type": "code",
      "metadata": {
        "id": "ghHJ78L1KRKo"
      },
      "source": [
        "india_cases.head()"
      ],
      "execution_count": null,
      "outputs": []
    },
    {
      "cell_type": "code",
      "metadata": {
        "id": "lz_gqkTYKRNv"
      },
      "source": [
        "df = pd.DataFrame(pd.to_numeric(india_cases.sum())).transpose()\n",
        "df.style.background_gradient(cmap='BuGn',axis=1)"
      ],
      "execution_count": null,
      "outputs": []
    },
    {
      "cell_type": "code",
      "metadata": {
        "id": "4XxiC8YaKRPm"
      },
      "source": [
        "Trend = Covid_Summary.groupby(['Date'])['Confirmed', 'Deaths','Cured',].sum().reset_index()\n",
        "Trend.head()"
      ],
      "execution_count": null,
      "outputs": []
    },
    {
      "cell_type": "code",
      "metadata": {
        "id": "BKvX9GccKRS8"
      },
      "source": [
        "fig = go.Figure(go.Bar(x= Trend.Date, y= Trend.Cured, name='Recovered'))\n",
        "fig.add_trace(go.Bar(x=Trend.Date, y= Trend.Deaths, name='Deaths'))\n",
        "fig.add_trace(go.Bar(x=Trend.Date, y= Trend.Confirmed, name='Confirmed'))\n",
        "\n",
        "fig.update_layout(barmode='stack',legend_orientation=\"h\",legend=dict(x= 0.3, y=1.1),\n",
        "                 paper_bgcolor='white',\n",
        "                 plot_bgcolor = \"white\",)\n",
        "fig.show()"
      ],
      "execution_count": null,
      "outputs": []
    },
    {
      "cell_type": "code",
      "metadata": {
        "id": "8-MGaOeWKRU7"
      },
      "source": [
        "import plotly.express as px"
      ],
      "execution_count": null,
      "outputs": []
    },
    {
      "cell_type": "code",
      "metadata": {
        "id": "KtclrxOOKRYt"
      },
      "source": [
        "def horizontal_bar_chart(df, x, y, title, x_label, y_label, color):\n",
        "    fig = px.bar(df, x=x, y=y, orientation='h', title=title, \n",
        "                 labels={x.name: x_label,\n",
        "                         y.name: y_label}, color_discrete_sequence=[color])\n",
        "    fig.update_layout(yaxis={'categoryorder': 'total ascending'})\n",
        "    fig.show()"
      ],
      "execution_count": null,
      "outputs": []
    },
    {
      "cell_type": "code",
      "metadata": {
        "id": "eGXgREK9KRaT"
      },
      "source": [
        "No_death_states = india_cases.sort_values('Deaths',ascending = False)[:29]\n",
        "horizontal_bar_chart(No_death_states, No_death_states.Deaths, No_death_states.index,\n",
        "                     ' States with most deaths','Number of deaths(In Thousands)','State Name','Red')\n"
      ],
      "execution_count": null,
      "outputs": []
    },
    {
      "cell_type": "code",
      "metadata": {
        "id": "dvwrbK6zKRec"
      },
      "source": [
        "Confirmed_states_Cases = india_cases.sort_values('Confirmed', ascending=False)[:29]\n",
        "horizontal_bar_chart(Confirmed_states_Cases,Confirmed_states_Cases.Confirmed, Confirmed_states_Cases.index,\n",
        "            ' Indian States (Confirmed Cases)', 'Number of Confirmed cases (in Thousands)','States Name','Green')"
      ],
      "execution_count": null,
      "outputs": []
    },
    {
      "cell_type": "code",
      "metadata": {
        "id": "YIpodcdgKRf2"
      },
      "source": [
        "Recovered_states = india_cases.sort_values('Cured', ascending=False)[:29]\n",
        "horizontal_bar_chart(Recovered_states, Recovered_states.Cured, Recovered_states.index,\n",
        "                    ' States (Cured Cases)', 'Number of Cured cases (in Thousands)', 'States Name', 'Blue')"
      ],
      "execution_count": null,
      "outputs": []
    },
    {
      "cell_type": "markdown",
      "metadata": {
        "id": "8w2S9DjHnL4r"
      },
      "source": [
        "VACCINATION\n"
      ]
    },
    {
      "cell_type": "code",
      "metadata": {
        "id": "3lkuiMX7KRjL"
      },
      "source": [
        "vaccination = pd.read_csv('/content/covid19/covid_vaccine_statewise.csv')\n",
        "vaccination.tail()"
      ],
      "execution_count": null,
      "outputs": []
    },
    {
      "cell_type": "code",
      "metadata": {
        "id": "CbhCLv4XKRlY"
      },
      "source": [
        "vaccination['Total Vaccinatons'] = vaccination['First Dose Administered']+vaccination['Second Dose Administered']\n",
        "\n",
        "vaccination.rename(columns = {'Updated On':'Date'}, inplace = True)"
      ],
      "execution_count": null,
      "outputs": []
    },
    {
      "cell_type": "code",
      "metadata": {
        "id": "L80HtblpKR0B"
      },
      "source": [
        "Maharashtra = vaccination[vaccination[\"State\"]==\"Maharashtra\"]\n",
        "fig = px.line(Maharashtra,x=\"Date\",y=\"Total Vaccinatons\",title=\"Vaccination till date in Maharashtra\")  \n",
        "fig.update_xaxes(rangeslider_visible=True)"
      ],
      "execution_count": null,
      "outputs": []
    },
    {
      "cell_type": "code",
      "metadata": {
        "id": "uiyeaiiUKR1j"
      },
      "source": [
        "fig = px.line(Maharashtra,x=\"Date\",y=\"Total CoviShield Administered\",title=\"CoviShield Administered in Mahrashtra\")  \n",
        "fig.update_xaxes(rangeslider_visible=True) "
      ],
      "execution_count": null,
      "outputs": []
    },
    {
      "cell_type": "markdown",
      "metadata": {
        "id": "azbY4byMm66L"
      },
      "source": [
        "PROPHET FORCASTING\n"
      ]
    },
    {
      "cell_type": "code",
      "metadata": {
        "id": "QqvyNDJlKR5e"
      },
      "source": [
        "from fbprophet import Prophet\n",
        "from fbprophet.plot import plot_plotly, add_changepoints_to_plot\n",
        "from plotly.offline import iplot, init_notebook_mode"
      ],
      "execution_count": null,
      "outputs": []
    },
    {
      "cell_type": "code",
      "metadata": {
        "id": "-3qU5oMhKR7B"
      },
      "source": [
        "model = Prophet()"
      ],
      "execution_count": null,
      "outputs": []
    },
    {
      "cell_type": "code",
      "metadata": {
        "id": "sMrlJ0M_KR-j"
      },
      "source": [
        "Confirmed = Trend.loc[:, ['Date', 'Confirmed']] \n",
        "Confirmed.tail()"
      ],
      "execution_count": null,
      "outputs": []
    },
    {
      "cell_type": "code",
      "metadata": {
        "id": "VG9K5Ho3KSAv"
      },
      "source": [
        "Cured = Trend.loc[:, ['Date', 'Cured']] \n",
        "Cured.tail()"
      ],
      "execution_count": null,
      "outputs": []
    },
    {
      "cell_type": "code",
      "metadata": {
        "id": "shjBVJIJkKax"
      },
      "source": [
        "Deaths = Trend.loc[:, ['Date', 'Cured']] \n",
        "Deaths.tail()"
      ],
      "execution_count": null,
      "outputs": []
    },
    {
      "cell_type": "code",
      "metadata": {
        "id": "X4EJ8iNPKSDw"
      },
      "source": [
        "Confirmed.columns = ['ds', 'y']\n",
        "model.fit(Confirmed)"
      ],
      "execution_count": null,
      "outputs": []
    },
    {
      "cell_type": "code",
      "metadata": {
        "id": "qeqR1bIbKSFX"
      },
      "source": [
        "future = model.make_future_dataframe(periods=30) \n",
        "future.tail()"
      ],
      "execution_count": null,
      "outputs": []
    },
    {
      "cell_type": "code",
      "metadata": {
        "id": "eaUSPYQ_KSIn"
      },
      "source": [
        "forecast_india_conf = model.predict(future)\n",
        "forecast_india_conf"
      ],
      "execution_count": null,
      "outputs": []
    },
    {
      "cell_type": "code",
      "metadata": {
        "id": "MXCXy5AtKSKg"
      },
      "source": [
        "fig = plot_plotly(model, forecast_india_conf) \n",
        "\n",
        "fig.update_layout(template='plotly_white')\n",
        "\n",
        "iplot(fig) "
      ],
      "execution_count": null,
      "outputs": []
    },
    {
      "cell_type": "code",
      "metadata": {
        "id": "tOiRwb71KSQU"
      },
      "source": [
        "model1 = Prophet()"
      ],
      "execution_count": null,
      "outputs": []
    },
    {
      "cell_type": "code",
      "metadata": {
        "id": "3kOZfZnkKSTP"
      },
      "source": [
        "Cured.columns = ['ds', 'y']\n",
        "model1.fit(Cured)\n",
        "\n",
        "future_1 = model1.make_future_dataframe(periods=30)\n",
        "future_1.tail()"
      ],
      "execution_count": null,
      "outputs": []
    },
    {
      "cell_type": "code",
      "metadata": {
        "id": "rHgLZYqYKSU3"
      },
      "source": [
        "forecast_india_cured = model1.predict(future_1)\n",
        "forecast_india_cured"
      ],
      "execution_count": null,
      "outputs": []
    },
    {
      "cell_type": "code",
      "metadata": {
        "id": "akR22z2_KSYJ"
      },
      "source": [
        "fig = plot_plotly(model1, forecast_india_cured) \n",
        "\n",
        "fig.update_layout(template='plotly_white')\n",
        "\n",
        "iplot(fig) "
      ],
      "execution_count": null,
      "outputs": []
    },
    {
      "cell_type": "code",
      "metadata": {
        "id": "j25qAK6DKSZU"
      },
      "source": [
        "model2 = Prophet()"
      ],
      "execution_count": null,
      "outputs": []
    },
    {
      "cell_type": "code",
      "metadata": {
        "id": "FEWVBUk6KSc9"
      },
      "source": [
        "Deaths.columns = ['ds', 'y']\n",
        "model2.fit(Deaths)\n",
        "\n",
        "future_2 = model2.make_future_dataframe(periods=30) \n",
        "future_2.tail()"
      ],
      "execution_count": null,
      "outputs": []
    },
    {
      "cell_type": "code",
      "metadata": {
        "id": "DwYn3FzkKSep"
      },
      "source": [
        "forecast_india_Deaths = model2.predict(future_2)\n",
        "forecast_india_Deaths"
      ],
      "execution_count": null,
      "outputs": []
    },
    {
      "cell_type": "code",
      "metadata": {
        "id": "5end3EUqKSin"
      },
      "source": [
        "fig = plot_plotly(model1, forecast_india_cured) \n",
        "\n",
        "fig.update_layout(template='plotly_white')\n",
        "\n",
        "iplot(fig) "
      ],
      "execution_count": null,
      "outputs": []
    }
  ]
}